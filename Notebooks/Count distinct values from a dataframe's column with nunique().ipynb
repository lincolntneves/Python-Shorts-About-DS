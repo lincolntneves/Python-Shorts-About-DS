{
 "cells": [
  {
   "cell_type": "markdown",
   "id": "67dad610-7133-4120-b165-ed12d5a600df",
   "metadata": {},
   "source": [
    "# Count distinct values from a dataframe's column with nunique()\n",
    "The objective of this notebook is only to show up how to use nunique() to count distinct values"
   ]
  },
  {
   "cell_type": "code",
   "execution_count": 1,
   "id": "31c7478f-87ca-4a86-ae29-6bbf92aaa860",
   "metadata": {},
   "outputs": [],
   "source": [
    "# Reading packages\n",
    "import pandas as pd"
   ]
  },
  {
   "cell_type": "code",
   "execution_count": 2,
   "id": "11ab46d2-97f6-473e-9e87-f625c2d16eda",
   "metadata": {},
   "outputs": [
    {
     "data": {
      "text/html": [
       "<div>\n",
       "<style scoped>\n",
       "    .dataframe tbody tr th:only-of-type {\n",
       "        vertical-align: middle;\n",
       "    }\n",
       "\n",
       "    .dataframe tbody tr th {\n",
       "        vertical-align: top;\n",
       "    }\n",
       "\n",
       "    .dataframe thead th {\n",
       "        text-align: right;\n",
       "    }\n",
       "</style>\n",
       "<table border=\"1\" class=\"dataframe\">\n",
       "  <thead>\n",
       "    <tr style=\"text-align: right;\">\n",
       "      <th></th>\n",
       "      <th>id</th>\n",
       "      <th>gender</th>\n",
       "      <th>ticket</th>\n",
       "      <th>count</th>\n",
       "    </tr>\n",
       "  </thead>\n",
       "  <tbody>\n",
       "    <tr>\n",
       "      <th>0</th>\n",
       "      <td>1</td>\n",
       "      <td>f</td>\n",
       "      <td>34.5</td>\n",
       "      <td>20</td>\n",
       "    </tr>\n",
       "    <tr>\n",
       "      <th>1</th>\n",
       "      <td>4</td>\n",
       "      <td>m</td>\n",
       "      <td>32.3</td>\n",
       "      <td>12</td>\n",
       "    </tr>\n",
       "    <tr>\n",
       "      <th>2</th>\n",
       "      <td>3</td>\n",
       "      <td>f</td>\n",
       "      <td>35.6</td>\n",
       "      <td>45</td>\n",
       "    </tr>\n",
       "    <tr>\n",
       "      <th>3</th>\n",
       "      <td>4</td>\n",
       "      <td>f</td>\n",
       "      <td>37.0</td>\n",
       "      <td>10</td>\n",
       "    </tr>\n",
       "    <tr>\n",
       "      <th>4</th>\n",
       "      <td>5</td>\n",
       "      <td>m</td>\n",
       "      <td>31.2</td>\n",
       "      <td>24</td>\n",
       "    </tr>\n",
       "    <tr>\n",
       "      <th>5</th>\n",
       "      <td>1</td>\n",
       "      <td>f</td>\n",
       "      <td>34.5</td>\n",
       "      <td>20</td>\n",
       "    </tr>\n",
       "  </tbody>\n",
       "</table>\n",
       "</div>"
      ],
      "text/plain": [
       "   id gender  ticket  count\n",
       "0   1      f    34.5     20\n",
       "1   4      m    32.3     12\n",
       "2   3      f    35.6     45\n",
       "3   4      f    37.0     10\n",
       "4   5      m    31.2     24\n",
       "5   1      f    34.5     20"
      ]
     },
     "execution_count": 2,
     "metadata": {},
     "output_type": "execute_result"
    }
   ],
   "source": [
    "# Building a dataframe\n",
    "data1 = {'id':[1,4,3,4,5,1],\n",
    "         'gender':['f','m','f','f','m','f'],\n",
    "         'ticket':[34.5,32.3,35.6,37.0,31.2,34.5],\n",
    "         'count':[20,12,45,10,24,20]}\n",
    "data2 = pd.DataFrame(data1)\n",
    "data2"
   ]
  },
  {
   "cell_type": "code",
   "execution_count": 3,
   "id": "d4e3d244-cf8c-499a-8452-9e30e60b8950",
   "metadata": {},
   "outputs": [
    {
     "data": {
      "text/plain": [
       "(6, 2)"
      ]
     },
     "execution_count": 3,
     "metadata": {},
     "output_type": "execute_result"
    }
   ],
   "source": [
    "# The first code verify how many rows there is on the gender column\n",
    "# The second code verify how many distinct values there is on the gender column \n",
    "data2['gender'].count(), data2['gender'].nunique()"
   ]
  },
  {
   "cell_type": "code",
   "execution_count": 4,
   "id": "04bdeaf6-23a7-420a-965b-e6c6c790aed0",
   "metadata": {},
   "outputs": [
    {
     "data": {
      "text/plain": [
       "(6, 4)"
      ]
     },
     "execution_count": 4,
     "metadata": {},
     "output_type": "execute_result"
    }
   ],
   "source": [
    "# The first code verify how many rows there is on the id column\n",
    "# The second code verify how many distinct values there is on the id column \n",
    "data2['id'].count(), data2['id'].nunique()"
   ]
  }
 ],
 "metadata": {
  "kernelspec": {
   "display_name": "Python 3",
   "language": "python",
   "name": "python3"
  },
  "language_info": {
   "codemirror_mode": {
    "name": "ipython",
    "version": 3
   },
   "file_extension": ".py",
   "mimetype": "text/x-python",
   "name": "python",
   "nbconvert_exporter": "python",
   "pygments_lexer": "ipython3",
   "version": "3.9.5"
  }
 },
 "nbformat": 4,
 "nbformat_minor": 5
}

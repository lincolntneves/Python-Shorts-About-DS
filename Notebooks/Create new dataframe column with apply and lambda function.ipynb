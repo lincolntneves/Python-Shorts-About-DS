{
 "cells": [
  {
   "cell_type": "code",
   "execution_count": 1,
   "id": "0e1b186c-bfa5-4a64-9ecb-00acbb2e1be4",
   "metadata": {},
   "outputs": [],
   "source": [
    "# Reading packages\n",
    "import pandas as pd"
   ]
  },
  {
   "cell_type": "code",
   "execution_count": 2,
   "id": "111c2ea7-9e7f-4653-b9d6-e9ba23c4e96c",
   "metadata": {},
   "outputs": [
    {
     "data": {
      "text/html": [
       "<div>\n",
       "<style scoped>\n",
       "    .dataframe tbody tr th:only-of-type {\n",
       "        vertical-align: middle;\n",
       "    }\n",
       "\n",
       "    .dataframe tbody tr th {\n",
       "        vertical-align: top;\n",
       "    }\n",
       "\n",
       "    .dataframe thead th {\n",
       "        text-align: right;\n",
       "    }\n",
       "</style>\n",
       "<table border=\"1\" class=\"dataframe\">\n",
       "  <thead>\n",
       "    <tr style=\"text-align: right;\">\n",
       "      <th></th>\n",
       "      <th>id</th>\n",
       "      <th>gender</th>\n",
       "      <th>ticket</th>\n",
       "      <th>count</th>\n",
       "    </tr>\n",
       "  </thead>\n",
       "  <tbody>\n",
       "    <tr>\n",
       "      <th>0</th>\n",
       "      <td>1</td>\n",
       "      <td>f</td>\n",
       "      <td>34.5</td>\n",
       "      <td>20</td>\n",
       "    </tr>\n",
       "    <tr>\n",
       "      <th>1</th>\n",
       "      <td>4</td>\n",
       "      <td>m</td>\n",
       "      <td>32.3</td>\n",
       "      <td>12</td>\n",
       "    </tr>\n",
       "    <tr>\n",
       "      <th>2</th>\n",
       "      <td>3</td>\n",
       "      <td>f</td>\n",
       "      <td>35.6</td>\n",
       "      <td>45</td>\n",
       "    </tr>\n",
       "    <tr>\n",
       "      <th>3</th>\n",
       "      <td>4</td>\n",
       "      <td>f</td>\n",
       "      <td>37.0</td>\n",
       "      <td>10</td>\n",
       "    </tr>\n",
       "    <tr>\n",
       "      <th>4</th>\n",
       "      <td>5</td>\n",
       "      <td>m</td>\n",
       "      <td>31.2</td>\n",
       "      <td>24</td>\n",
       "    </tr>\n",
       "  </tbody>\n",
       "</table>\n",
       "</div>"
      ],
      "text/plain": [
       "   id gender  ticket  count\n",
       "0   1      f    34.5     20\n",
       "1   4      m    32.3     12\n",
       "2   3      f    35.6     45\n",
       "3   4      f    37.0     10\n",
       "4   5      m    31.2     24"
      ]
     },
     "execution_count": 2,
     "metadata": {},
     "output_type": "execute_result"
    }
   ],
   "source": [
    "# Building a dataframe\n",
    "data1 = {'id':[1,4,3,4,5],\n",
    "         'gender':['f','m','f','f','m'],\n",
    "         'ticket':[34.5,32.3,35.6,37.0,31.2],\n",
    "         'count':[20,12,45,10,24]}\n",
    "data2 = pd.DataFrame(data1)\n",
    "data2"
   ]
  },
  {
   "cell_type": "code",
   "execution_count": 3,
   "id": "6ab18478-70d1-4e39-9355-84dabf449aae",
   "metadata": {},
   "outputs": [],
   "source": [
    "# Building new column and Applying my function 'flag'\n",
    "data2['my_flag'] = data2['count'].apply(lambda x: 1 if x <= 15 else 0)"
   ]
  },
  {
   "cell_type": "code",
   "execution_count": 4,
   "id": "78fba1e0-3a0e-4c86-a0e4-8fec094f4788",
   "metadata": {},
   "outputs": [
    {
     "name": "stdout",
     "output_type": "stream",
     "text": [
      "   id gender  ticket  count  my_flag\n",
      "0   1      f    34.5     20        0\n",
      "1   4      m    32.3     12        1\n",
      "2   3      f    35.6     45        0\n",
      "3   4      f    37.0     10        1\n",
      "4   5      m    31.2     24        0\n"
     ]
    }
   ],
   "source": [
    "# Print dataframe\n",
    "print(data2)"
   ]
  }
 ],
 "metadata": {
  "kernelspec": {
   "display_name": "Python 3",
   "language": "python",
   "name": "python3"
  },
  "language_info": {
   "codemirror_mode": {
    "name": "ipython",
    "version": 3
   },
   "file_extension": ".py",
   "mimetype": "text/x-python",
   "name": "python",
   "nbconvert_exporter": "python",
   "pygments_lexer": "ipython3",
   "version": "3.9.5"
  }
 },
 "nbformat": 4,
 "nbformat_minor": 5
}
